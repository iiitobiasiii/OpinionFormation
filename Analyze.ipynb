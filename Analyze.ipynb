{
 "cells": [
  {
   "cell_type": "markdown",
   "metadata": {},
   "source": [
    "Zieht sich die Parameterwerte aller Durchläufe in einen pandas dataframe"
   ]
  },
  {
   "cell_type": "code",
   "execution_count": 1,
   "metadata": {},
   "outputs": [],
   "source": [
    "import pandas as pd\n",
    "import glob\n",
    "import numpy as np\n",
    "\n",
    "#Dataset with or without manipulation?\n",
    "manip = 1\n",
    "\n",
    "path =r'./data/newdata' # use your path\n",
    "allFiles = glob.glob(path + \"/*.txt\")\n",
    "frame = pd.DataFrame()\n",
    "\n",
    "#will be converted to dataframe\n",
    "list_ = []\n",
    "\n",
    "#dict of style index in frame : (filename, index in file)\n",
    "findfile = {}\n",
    "\n",
    "#index for rows in frame\n",
    "curr_row = 0\n",
    "for file_ in allFiles:\n",
    "    orig_ind = 0\n",
    "    n = 3 + manip  #Add number of lines that will appear if manipulation is on!\n",
    "    num_lines = sum(1 for l in open(file_))\n",
    "    skip_idx = [x for x in range(1, num_lines) if x % n != 0]\n",
    "    df = pd.read_csv(file_,index_col=None, skiprows=skip_idx, header = None)\n",
    "    list_.append(df)\n",
    "    for i in range(curr_row, curr_row+len(df.index)):\n",
    "        findfile[i] = (file_, orig_ind)\n",
    "        orig_ind += 1\n",
    "    curr_row +=len(df.index)\n",
    "frame = pd.concat(list_, ignore_index=True)\n",
    "#with pd.option_context('display.max_rows', 100, 'display.max_columns', 20):\n",
    "#    display(frame)"
   ]
  },
  {
   "cell_type": "code",
   "execution_count": null,
   "metadata": {},
   "outputs": [],
   "source": []
  },
  {
   "cell_type": "markdown",
   "metadata": {},
   "source": [
    "Funktion die für gegebenes NNodes, NEdges, phi den Index im Datenframe (der Parameterwerte) ausgibt"
   ]
  },
  {
   "cell_type": "code",
   "execution_count": 2,
   "metadata": {},
   "outputs": [],
   "source": [
    "import re\n",
    "\n",
    "def getIndex(NNodes, NEdges, phi, kmanip):\n",
    "    lines = []\n",
    "    for j in range(frame.shape[0]): #all rows\n",
    "        getstr = frame[0][j]\n",
    "        if ([int(s) for s in getstr.split() if s.isdigit()][0] == NNodes):\n",
    "            getstr = frame[1][j]\n",
    "            if ([int(s) for s in getstr.split() if s.isdigit()][0] == NEdges):\n",
    "                getstr = frame[2][j]\n",
    "                if (float(re.findall(\"\\d+\\.\\d+\", getstr)[0]) == phi):\n",
    "                    if manip != 1:\n",
    "                        lines.append(j)\n",
    "                    else:\n",
    "                        getstr = frame[4][j]\n",
    "                        if ([int(s) for s in getstr.split() if s.isdigit()][0] == kmanip):\n",
    "                            lines.append(j)\n",
    "    return lines"
   ]
  },
  {
   "cell_type": "markdown",
   "metadata": {},
   "source": [
    "Funktion die für gegebenen Index des Dataframes (der Parameterwerte) den Meinungsvektor (OporComp = 0) oder den Komponentenvektor (OporComp = 1) oder den Influencervektor (OporComp = 2) aus der jeweiligen Datei liest"
   ]
  },
  {
   "cell_type": "code",
   "execution_count": 3,
   "metadata": {},
   "outputs": [],
   "source": [
    "#OporComp = 0 for OpinionVector, 1 for ConnectedComponents\n",
    "def getVector(frameIndex, OporComp):\n",
    "    filename = (findfile[frameIndex])[0]\n",
    "    fileindex = (findfile[frameIndex])[1]\n",
    "    fileline = fileindex*(3+manip)+1\n",
    "    OpinionVector = pd.read_csv(filename, skiprows = fileline+OporComp, nrows = 1, header=None, delim_whitespace = True)\n",
    "    return OpinionVector"
   ]
  },
  {
   "cell_type": "code",
   "execution_count": null,
   "metadata": {},
   "outputs": [],
   "source": []
  },
  {
   "cell_type": "markdown",
   "metadata": {},
   "source": [
    "Funktion die für gegebenes NNodes, NEdges, phi einen Matplotlib subplot eines Plot der Größe x * y an index z erstellt"
   ]
  },
  {
   "cell_type": "code",
   "execution_count": 4,
   "metadata": {},
   "outputs": [],
   "source": [
    "from collections import Counter\n",
    "import matplotlib.pyplot as plt\n",
    "\n",
    "\n",
    "#ComponentSizes dependent on Phi\n",
    "def histogram( NNodes, phi, kinf):\n",
    "    hist = [0] * (NNodes+1)\n",
    "    lines = []\n",
    "    lines = getIndex(NNodes, NNodes*2, phi, kinf)\n",
    "    if (len(lines) == 0):\n",
    "        print(\"No Dataset found for NNodes = %d, phi = %.3f\" %(NNodes,  phi))\n",
    "        return\n",
    "    for i in range(len(lines)):\n",
    "        compvec=[NNodes] #empty array\n",
    "        compvec = getVector(lines[i],1) #getComponentsizevector\n",
    "        compvec = compvec.values.tolist()[0] #get list from dataframe\n",
    "        compdic = Counter(compvec) #get Dict of type (compent number) : size\n",
    "        comps = list(compdic.values()) #get list of size values\n",
    "        d = Counter(comps) #get Dict sizeofCompononent : appearance\n",
    "        for siz, app in d.items():\n",
    "            hist[siz] += app\n",
    "        hist[:] = [float(x) / NNodes for x in hist]\n",
    "    hist[:] = [float(x) / len(lines) for x in hist] #average over number of datasets\n",
    "    #hist[:] = [float(x) / NNodes for x in hist] \n",
    "    #axs = axs.flatten()\n",
    "    #axs[ithplot].loglog(hist, 'o')\n",
    "    plt.loglog(hist, 'o')\n",
    "    title = \"Phi: \" +str(float(phi)) + \" averaged over \" + str(len(lines))\n",
    "    #axs[ithplot].set_title(title)\n",
    "    #axs[ithplot].set_xlim(xmin=0, xmax=NNodes)\n",
    "    #axs[ithplot].set_ylim(ymin = 0.00001, ymax=1.1)\n",
    "    plt.title(title)\n",
    "    plt.xlim(xmin=0, xmax=NNodes)\n",
    "    plt(ylimymin = 0.00001, ymax = 1.1)\n",
    "    plt.show()\n",
    "    picfilename = input(\"Filename? 0 to cancel\")\n",
    "    if picfilename != '0':\n",
    "        picfilename = \"./hist/\" +str(picfilename)\n",
    "        fig.savefig(picfilename) "
   ]
  },
  {
   "cell_type": "code",
   "execution_count": 5,
   "metadata": {
    "scrolled": false
   },
   "outputs": [],
   "source": [
    "def WhichNNodes():\n",
    "    Nodelist = []\n",
    "    for j in range(frame.shape[0]):\n",
    "        getstr = frame[0][j]\n",
    "        newNode = [int(s) for s in getstr.split() if s.isdigit()][0]\n",
    "        if newNode not in Nodelist:\n",
    "            Nodelist.append(newNode)\n",
    "    return Nodelist\n",
    "\n",
    "def WhichPhi():\n",
    "    philist = []\n",
    "    for j in range(frame.shape[0]): #all rows\n",
    "        getstr = frame[2][j]\n",
    "        newphi = float(re.findall(\"\\d+\\.\\d+\", getstr)[0])\n",
    "        if newphi not in philist:\n",
    "            philist.append(newphi)\n",
    "    return philist\n",
    "\n",
    "def WhichKinf():\n",
    "    KinfList = []\n",
    "    for j in range(frame.shape[0]): #all rows\n",
    "        getstr = frame[4][j]\n",
    "        newkinf = [int(s) for s in getstr.split() if s.isdigit()][0]\n",
    "        if newkinf not in KinfList:\n",
    "            KinfList.append(newkinf)\n",
    "    return KinfList\n"
   ]
  },
  {
   "cell_type": "code",
   "execution_count": null,
   "metadata": {},
   "outputs": [],
   "source": []
  },
  {
   "cell_type": "markdown",
   "metadata": {},
   "source": [
    "DomOp gets Values for NNodes and phi and returns the ratio of Opinion 0 Nodes and other Opinion nodes"
   ]
  },
  {
   "cell_type": "code",
   "execution_count": 6,
   "metadata": {},
   "outputs": [],
   "source": [
    "def DomOp(NNodes, phi, kInf):\n",
    "    Dom = 0.\n",
    "    lines = []\n",
    "    lines = getIndex(NNodes, NNodes*2, phi, kInf)\n",
    "    \n",
    "    if (len(lines) == 0):\n",
    "        print(\"No Dataset found for %d, %d, %.3f, %d\" %(NNodes, NNodes*2, phi, kInf)) \n",
    "        return -1\n",
    "    \n",
    "    for i in range(len(lines)):        \n",
    "        #get opinion vector\n",
    "        opvec = getVector(lines[i],0)\n",
    "        \n",
    "        #get list from dataframe\n",
    "        opvec = opvec.values.tolist()[0]\n",
    "        \n",
    "        #get Dict of type (opinion number) : size\n",
    "        opvec = Counter(opvec) \n",
    "        #print(opvec)\n",
    "        #get Number of Nodes that have Opinion 0\n",
    "        Curr_Dom = float(list(opvec.values())[0])\n",
    "        #print(Curr_Dom)\n",
    "        #divided by mean of all OTHER opinions\n",
    "        Curr_Dom = Curr_Dom/(NNodes - Curr_Dom) * (NNodes/10 -1) \n",
    "        #print(Curr_Dom)\n",
    "        #print(CurrInfOpDom)\n",
    "        Dom += Curr_Dom\n",
    "        \n",
    "    Dom = Dom/(len(lines))\n",
    "    return Dom"
   ]
  },
  {
   "cell_type": "markdown",
   "metadata": {},
   "source": [
    "Gets NNodes value and InPhi, InNinf list and creates plot of OpDomination / Phi with a line for each element of InNinf"
   ]
  },
  {
   "cell_type": "code",
   "execution_count": 7,
   "metadata": {},
   "outputs": [],
   "source": [
    "def Plot_DomPhi(NNodes, InPhi, InNinf):\n",
    "    plotdata = [[0 for x in range(len(InPhi))] for y in range(len(InNinf))] \n",
    "    for i, Phi in enumerate(InPhi):\n",
    "        for j, Inf in enumerate(InNinf):\n",
    "            temp = DomOp(NNodes, Phi, Inf)\n",
    "            if temp != -1:\n",
    "                plotdata[i][j] = DomOp(NNodes, Phi, Inf)\n",
    "        plt.scatter(InPhi, plotdata[i])\n",
    "    plt.show()\n",
    "    picfilename = input(\"Filename? 0 to cancel\")\n",
    "    if picfilename != '0':\n",
    "        picfilename = \"./DomPhi/\" +str(picfilename)\n",
    "        fig.savefig(picfilename) \n",
    "    return\n",
    "\n",
    "\n",
    "def Plot_DomKinf(NNodes, InPhi, InNinf):\n",
    "    plotdata = [[0 for x in range(len(InNinf))] for y in range(len(InPhi))] # plotdata[i][j] limited by i<len(InPhi) and j<len(InNinf)!!!!\n",
    "    for i,Inf in enumerate(InNinf):\n",
    "        for j,Phi in enumerate(InPhi):\n",
    "            temp = DomOp(NNodes, Phi, Inf)\n",
    "            if temp != -1:\n",
    "                plotdata[j][i] = temp\n",
    "            else:\n",
    "                continue\n",
    "    return plotdata\n",
    "    #    plt.scatter(InNinf, plotdata[i])\n",
    "    #plt.show()\n",
    "    #picfilename = input(\"Filename? 0 to cancel\")\n",
    "    #if picfilename != '0':\n",
    "    #    picfilename = \"./DomKinf/\" +str(picfilename)\n",
    "    #    fig.savefig(picfilename) \n",
    "\n",
    "    \n",
    "def Plot_DomKinf2(NNodes, InPhi, InNinf):\n",
    "    \n",
    "    # plotdata[i][j] limited by i<len(InPhi) and j<len(InNinf)!!!!\n",
    "    for i,Inf in enumerate(InNinf):\n",
    "        for j,Phi in enumerate(InPhi):\n",
    "            temp = DomOp(NNodes, Phi, Inf)\n",
    "            if temp != -1:\n",
    "                plotdata[j][i] = temp\n",
    "            else:\n",
    "                continue\n",
    "    return plotdata"
   ]
  },
  {
   "cell_type": "code",
   "execution_count": null,
   "metadata": {},
   "outputs": [],
   "source": [
    "getdata = Plot_DomKinf2(WhichNNodes()[0],WhichPhi(), WhichKinf() ) #getdata ist 2D Array InPhi x InNinf mit DomOp Werten"
   ]
  },
  {
   "cell_type": "code",
   "execution_count": null,
   "metadata": {},
   "outputs": [],
   "source": [
    "from tempfile import TemporaryFile\n",
    "outfile = TemporaryFile()\n",
    "np.save(outfile, getdata)"
   ]
  },
  {
   "cell_type": "code",
   "execution_count": null,
   "metadata": {},
   "outputs": [],
   "source": [
    "print(getdata)"
   ]
  },
  {
   "cell_type": "code",
   "execution_count": null,
   "metadata": {},
   "outputs": [],
   "source": [
    "x = WhichPhi()\n",
    "y = WhichKinf()\n",
    "\n",
    "xs, ys = np.meshgrid(x, y)\n",
    "fig = plt.figure()\n",
    "ax = Axes3D(fig)\n",
    "ax.plot_surface(getdata, rstride=1, cstride=1, cmap='hot')\n",
    "plt.show("
   ]
  },
  {
   "cell_type": "code",
   "execution_count": 9,
   "metadata": {},
   "outputs": [],
   "source": []
  },
  {
   "cell_type": "code",
   "execution_count": null,
   "metadata": {},
   "outputs": [],
   "source": []
  },
  {
   "cell_type": "code",
   "execution_count": null,
   "metadata": {},
   "outputs": [],
   "source": []
  }
 ],
 "metadata": {
  "kernelspec": {
   "display_name": "Python 3",
   "language": "python",
   "name": "python3"
  },
  "language_info": {
   "codemirror_mode": {
    "name": "ipython",
    "version": 3
   },
   "file_extension": ".py",
   "mimetype": "text/x-python",
   "name": "python",
   "nbconvert_exporter": "python",
   "pygments_lexer": "ipython3",
   "version": "3.5.2"
  }
 },
 "nbformat": 4,
 "nbformat_minor": 2
}
